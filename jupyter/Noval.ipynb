{
 "nbformat": 4,
 "nbformat_minor": 2,
 "metadata": {
  "language_info": {
   "name": "python",
   "codemirror_mode": {
    "name": "ipython",
    "version": 3
   },
   "version": "3.7.4-final"
  },
  "orig_nbformat": 2,
  "file_extension": ".py",
  "mimetype": "text/x-python",
  "name": "python",
  "npconvert_exporter": "python",
  "pygments_lexer": "ipython3",
  "version": 3,
  "kernelspec": {
   "name": "python37464bit4215bc6b2667475ab31712bb18f57004",
   "display_name": "Python 3.7.4 64-bit"
  }
 },
 "cells": [
  {
   "source": [
    "!python3 -m pip install requests  --user\n",
    "!python3 -m pip install beautifulsoup4 --user\n",
    "\n",
    "\"\"\"黃金屋爬蟲\"\"\"\n",
    "import asyncio\n",
    "import re\n",
    "\n",
    "import requests\n",
    "from bs4 import BeautifulSoup\n",
    "\n",
    "BASE_URL = \"https://tw.hjwzw.com\"\n",
    "MOBILE_URL = \"https://t.hjwzw.com\"\n",
    ""
   ],
   "cell_type": "code",
   "outputs": [
    {
     "output_type": "stream",
     "name": "stdout",
     "text": "Requirement already satisfied: requests in /home/sung/.local/lib/python3.7/site-packages (2.22.0)\nRequirement already satisfied: chardet<3.1.0,>=3.0.2 in /home/sung/.local/lib/python3.7/site-packages (from requests) (3.0.4)\nRequirement already satisfied: idna<2.9,>=2.5 in /usr/local/lib/python3.7/site-packages (from requests) (2.8)\nRequirement already satisfied: certifi>=2017.4.17 in /home/sung/.local/lib/python3.7/site-packages (from requests) (2019.11.28)\nRequirement already satisfied: urllib3!=1.25.0,!=1.25.1,<1.26,>=1.21.1 in /home/sung/.local/lib/python3.7/site-packages (from requests) (1.25.8)\n\u001b[33mWARNING: You are using pip version 19.3; however, version 20.0.2 is available.\nYou should consider upgrading via the 'pip install --upgrade pip' command.\u001b[0m\nRequirement already satisfied: beautifulsoup4 in /home/sung/.local/lib/python3.7/site-packages (4.8.2)\nRequirement already satisfied: soupsieve>=1.2 in /home/sung/.local/lib/python3.7/site-packages (from beautifulsoup4) (1.9.5)\n\u001b[33mWARNING: You are using pip version 19.3; however, version 20.0.2 is available.\nYou should consider upgrading via the 'pip install --upgrade pip' command.\u001b[0m\n"
    }
   ],
   "metadata": {},
   "execution_count": 7
  },
  {
   "cell_type": "markdown",
   "execution_count": null,
   "metadata": {},
   "outputs": [],
   "source": [
    "# Repo\n",
    "[Telegram Bot](https://github.com/python-telegram-bot/python-telegram-bot)  \n",
    "[OLAMI Medium](https://medium.com/@zaoldyeck/%E5%AF%A6%E6%88%B0%E7%AF%87-%E6%89%93%E9%80%A0%E4%BA%BA%E6%80%A7%E5%8C%96-telegram-bot-ed9bb5b8a6d9)\n",
    "\n",
    "---"
   ]
  },
  {
   "source": [
    "async def search_title(title:str) -> list:\n",
    "    \"\"\"取得搜尋資料\"\"\"\n",
    "    url = f\"{BASE_URL}/List/{title}\"\n",
    "    \n",
    "    res = requests.get(url)\n",
    "    if res.status_code != requests.codes.ok:\n",
    "        return \"Error\" # 網站不正常\n",
    "\n",
    "    soup = BeautifulSoup(res.text, \"html.parser\")\n",
    "\n",
    "    # 是直接搜到主頁嗎\n",
    "    main = soup.find_all(\"a\", string=re.compile(f\"{title}\"))\n",
    "    is_main =  main != None and all([main[0][\"href\"] in i[\"href\"] for i in main])\n",
    "\n",
    "    if is_main:\n",
    "        main = main[0]\n",
    "        list_ = await get_book_info(main.text.strip(), main[\"href\"])\n",
    "    else:\n",
    "        books = soup.find_all(\"span\", class_=\"wd10\")\n",
    "        list_ = await asyncio.gather(\n",
    "            *[get_book_info(i.a.text, i.a[\"href\"]) for i in books]\n",
    "        )\n",
    "    return list_"
   ],
   "cell_type": "code",
   "outputs": [],
   "metadata": {},
   "execution_count": 8
  },
  {
   "source": [
    "async def get_book_info(title:str, url:str) -> dict:\n",
    "    \"\"\"取得書本資料\"\"\"\n",
    "    url = f\"{MOBILE_URL}{url}\"\n",
    "    res = requests.get(url)\n",
    "    soup = BeautifulSoup(res.text, \"html.parser\")\n",
    "\n",
    "    return {\n",
    "        \"title\": title,\n",
    "        \"url\": url,\n",
    "        \"author\": soup.find(\"span\", string=\"作者：\").findNext(\"span\").text.strip(),\n",
    "        \"preface\": soup.find(\"div\", id=\"Contents\").text.strip(),\n",
    "        \"id\": url.split(\"/\")[-1]\n",
    "    }\n",
    "\n",
    "async def get_chapter_list(book_id:str, start:int=0, end:int=100) -> list:\n",
    "    \"\"\"取得章節資料\"\"\"\n",
    "    url = f\"{MOBILE_URL}/ChapterList/{book_id}/{start}_{end}\"\n",
    "    res = requests.get(url)\n",
    "    soup = BeautifulSoup(res.text, \"html.parser\")\n",
    "\n",
    "    chapters = soup.find_all(\"div\", class_=\"book_list_03\")\n",
    "\n",
    "    if len(chapters) != (end-start):\n",
    "        return \n",
    "    \n",
    "    list_ = []\n",
    "    for chapter in chapters:\n",
    "        list_.append({\n",
    "            \"title\": chapter.text.strip()\n",
    "        })\n",
    "\n",
    "    return list_\n",
    "    \n",
    "list_ = await search_title(\"九星\")\n",
    "print(list_[0])\n",
    "await get_chapter_list(list_[0][\"id\"])\n",
    ""
   ],
   "cell_type": "code",
   "outputs": [
    {
     "output_type": "stream",
     "name": "stdout",
     "text": "{'title': '九星霸體訣', 'url': 'https://t.hjwzw.com/Book/36508', 'author': '平凡魔術師', 'preface': '是丹帝重生？是融合靈魂？被盜走靈根、靈血、靈骨的三無少年——龍塵，憑借著記憶中的煉丹神術，修行神秘功法九星霸體訣，撥開重重迷霧，解開驚天之局。\\r\\n手掌天地乾坤，腳踏日月星辰，勾搭各色美女，鎮壓惡鬼邪神。\\r\\n江湖傳聞：龍塵一到，地吼天嘯。龍塵一出，鬼泣神哭。\\r\\n本故事純屬虛構，如有雷同，那就是真事兒.', 'id': '36508'}\n"
    },
    {
     "output_type": "execute_result",
     "data": {
      "text/plain": "[{'title': '第一章 丹帝記憶'},\n {'title': '第二章 卑鄙小人'},\n {'title': '第三章 鋒芒初現'},\n {'title': '第四章 凝聚風府星'},\n {'title': '第五章 太學宮'},\n {'title': '第六章 討還利息'},\n {'title': '第七章 修習戰技'},\n {'title': '第八章 生死決戰'},\n {'title': '第九章 煉藥師公會'},\n {'title': '第十章 懲戒小人'},\n {'title': '第十一章 絕世美人'},\n {'title': '第十二章 新的目標'},\n {'title': '第十三章 風府初成'},\n {'title': '第十四章 七皇子'},\n {'title': '第十五章 開天'},\n {'title': '第十六章 公主尋仇'},\n {'title': '第十七章 殺意凜然'},\n {'title': '第十八章 蠻荒候'},\n {'title': '第十九章 駐顏液'},\n {'title': '第二十章 賒賬'},\n {'title': '第二十一章 考核'},\n {'title': '第二十二章 阿蠻'},\n {'title': '第二十三章 膽上長毛'},\n {'title': '第二十四章 報仇不隔夜'},\n {'title': '第二十五章 大夏皇子'},\n {'title': '第二十六章 恐怖阿蠻'},\n {'title': '第二十七章 火云掌'},\n {'title': '第二十八章 公主秘辛'},\n {'title': '第二十九章 龍塵的震驚'},\n {'title': '第三十章 死性不改'},\n {'title': '第三十一章 再起沖突'},\n {'title': '第三十二章 華云閣的邀請'},\n {'title': '第三十三章 鳳鳴燈節'},\n {'title': '第三十四章 燈節開幕'},\n {'title': '第三十五章 硝煙彌漫'},\n {'title': '第三十六章 公主芳心'},\n {'title': '第三十七章 斗丹'},\n {'title': '第三十八章 輸了?'},\n {'title': '第三十九章 獸火到手'},\n {'title': '第四十章 黃裳的挑戰'},\n {'title': '第四十一章 龍塵之怒'},\n {'title': '第四十二章 氣動九霄'},\n {'title': '第四十三章 獸修'},\n {'title': '第四十四章 垂死掙扎'},\n {'title': '第四十五章 力挫強敵'},\n {'title': '第四十六章 燈會落幕'},\n {'title': '第四十七章 煉化獸火'},\n {'title': '第四十八章 云奇秘辛'},\n {'title': '第四十九章 丹谷'},\n {'title': '第五十章 門庭若市'},\n {'title': '第五十一章 聚氣十重'},\n {'title': '第五十二章 籠中之鳥'},\n {'title': '第五十三章 生肌造骨丹'},\n {'title': '第五十四章 拍賣會'},\n {'title': '第五十五章 金斑虎'},\n {'title': '第五十六章 千年熔星草'},\n {'title': '第五十七章 英侯的手段'},\n {'title': '第五十八章 開山戰斧'},\n {'title': '第五十九章 地階戰技'},\n {'title': '第六十章 驚人手段'},\n {'title': '第六十一章 反擊'},\n {'title': '第六十二章 拍賣落幕'},\n {'title': '第六十三章 華云宗'},\n {'title': '第六十四章 探視楚瑤'},\n {'title': '第六十五章 熔星化氣'},\n {'title': '第六十六章 人心鬼蜮'},\n {'title': '第六十七章 赤焰雪狼'},\n {'title': '第六十八章 父親的消息'},\n {'title': '第六十九 龍天嘯的苦衷'},\n {'title': '第七十章 小雪'},\n {'title': '第七十一章 聚氣十二重'},\n {'title': '第七十二章 阿蠻顯威'},\n {'title': '第七十三章 斬殺夏長風'},\n {'title': '第七十四章 陷入絕境'},\n {'title': '第七十五章 力戰英侯'},\n {'title': '第七十六章 恐怖英侯'},\n {'title': '第七十七章 密林追蹤'},\n {'title': '第七十八章 龍塵的禮物'},\n {'title': '第七十九章 送你一坨'},\n {'title': '第八十章 最終對決'},\n {'title': '第八十一章 兩敗俱傷'},\n {'title': '第八十二章 四皇子的雄心'},\n {'title': '第八十三章 神秘聲音'},\n {'title': '第八十四章 你是我的男人'},\n {'title': '第八十五章 森林之神'},\n {'title': '第八十六章 揮手斬殺'},\n {'title': '第八十七章 來自靈界'},\n {'title': '第八十八章 天罰'},\n {'title': '第八十九章 離風三式'},\n {'title': '第九十章 小雪到來'},\n {'title': '第九十一章 金剛怒猿'},\n {'title': '第九十二章 血祭結界'},\n {'title': '第九十三章 傷離別'},\n {'title': '第九十四章 十萬火急'},\n {'title': '第九十五章 刑場'},\n {'title': '第九十六章 危機時刻'},\n {'title': '第九十七 兄弟'},\n {'title': '第九十八章 楚瑤出手'},\n {'title': '第九十九章 鳳鳴最強男人'},\n {'title': '第一百章 千鈞一發'}]"
     },
     "metadata": {},
     "execution_count": 9
    }
   ],
   "metadata": {},
   "execution_count": 9
  },
  {
   "cell_type": "code",
   "execution_count": null,
   "metadata": {},
   "outputs": [],
   "source": []
  }
 ]
}